{
 "cells": [
  {
   "cell_type": "code",
   "execution_count": 631,
   "id": "2cee698d",
   "metadata": {},
   "outputs": [],
   "source": [
    "from sklearn.preprocessing import LabelEncoder #import the relevant libraries\n",
    "import numpy as np\n",
    "import pandas as pd\n",
    "import seaborn as sns \n",
    "import matplotlib.pyplot as plt\n",
    "import numpy as np\n",
    "%matplotlib inline\n",
    "\n",
    "from sklearn.linear_model import LinearRegression\n",
    "from sklearn.preprocessing import StandardScaler\n",
    "from sklearn.model_selection import train_test_split\n",
    "from sklearn.metrics import r2_score\n",
    "from sklearn import metrics"
   ]
  },
  {
   "cell_type": "code",
   "execution_count": 632,
   "id": "1904963a",
   "metadata": {},
   "outputs": [
    {
     "data": {
      "text/html": [
       "<div>\n",
       "<style scoped>\n",
       "    .dataframe tbody tr th:only-of-type {\n",
       "        vertical-align: middle;\n",
       "    }\n",
       "\n",
       "    .dataframe tbody tr th {\n",
       "        vertical-align: top;\n",
       "    }\n",
       "\n",
       "    .dataframe thead th {\n",
       "        text-align: right;\n",
       "    }\n",
       "</style>\n",
       "<table border=\"1\" class=\"dataframe\">\n",
       "  <thead>\n",
       "    <tr style=\"text-align: right;\">\n",
       "      <th></th>\n",
       "      <th>age</th>\n",
       "      <th>sex</th>\n",
       "      <th>bmi</th>\n",
       "      <th>children</th>\n",
       "      <th>smoker</th>\n",
       "      <th>region</th>\n",
       "      <th>charges</th>\n",
       "    </tr>\n",
       "  </thead>\n",
       "  <tbody>\n",
       "    <tr>\n",
       "      <th>0</th>\n",
       "      <td>19</td>\n",
       "      <td>female</td>\n",
       "      <td>27.900</td>\n",
       "      <td>0</td>\n",
       "      <td>yes</td>\n",
       "      <td>southwest</td>\n",
       "      <td>16884.92400</td>\n",
       "    </tr>\n",
       "    <tr>\n",
       "      <th>1</th>\n",
       "      <td>18</td>\n",
       "      <td>male</td>\n",
       "      <td>33.770</td>\n",
       "      <td>1</td>\n",
       "      <td>no</td>\n",
       "      <td>southeast</td>\n",
       "      <td>1725.55230</td>\n",
       "    </tr>\n",
       "    <tr>\n",
       "      <th>2</th>\n",
       "      <td>28</td>\n",
       "      <td>male</td>\n",
       "      <td>33.000</td>\n",
       "      <td>3</td>\n",
       "      <td>no</td>\n",
       "      <td>southeast</td>\n",
       "      <td>4449.46200</td>\n",
       "    </tr>\n",
       "    <tr>\n",
       "      <th>3</th>\n",
       "      <td>33</td>\n",
       "      <td>male</td>\n",
       "      <td>22.705</td>\n",
       "      <td>0</td>\n",
       "      <td>no</td>\n",
       "      <td>northwest</td>\n",
       "      <td>21984.47061</td>\n",
       "    </tr>\n",
       "    <tr>\n",
       "      <th>4</th>\n",
       "      <td>32</td>\n",
       "      <td>male</td>\n",
       "      <td>28.880</td>\n",
       "      <td>0</td>\n",
       "      <td>no</td>\n",
       "      <td>northwest</td>\n",
       "      <td>3866.85520</td>\n",
       "    </tr>\n",
       "  </tbody>\n",
       "</table>\n",
       "</div>"
      ],
      "text/plain": [
       "   age     sex     bmi  children smoker     region      charges\n",
       "0   19  female  27.900         0    yes  southwest  16884.92400\n",
       "1   18    male  33.770         1     no  southeast   1725.55230\n",
       "2   28    male  33.000         3     no  southeast   4449.46200\n",
       "3   33    male  22.705         0     no  northwest  21984.47061\n",
       "4   32    male  28.880         0     no  northwest   3866.85520"
      ]
     },
     "execution_count": 632,
     "metadata": {},
     "output_type": "execute_result"
    }
   ],
   "source": [
    "df=pd.read_csv(\"insurance.csv\") # read the dataset\n",
    "df.head()"
   ]
  },
  {
   "cell_type": "code",
   "execution_count": 633,
   "id": "fc524caa",
   "metadata": {},
   "outputs": [],
   "source": [
    "le_sex = LabelEncoder()\n",
    "le_smoker = LabelEncoder()\n",
    "le_region = LabelEncoder()\n",
    "\n",
    "# Label encoding - encode the data\n",
    "df['sex_encoded'] = le_sex.fit_transform(df.sex)\n",
    "df['smoker_encoded'] = le_smoker.fit_transform(df.smoker)\n",
    "df['region_encoded'] = le_region.fit_transform(df.region)\n",
    "\n",
    "df_new  = df\n",
    "df_new = df_new.drop(['sex','smoker','region'], axis=1)"
   ]
  },
  {
   "cell_type": "code",
   "execution_count": 634,
   "id": "bcbfe60c",
   "metadata": {},
   "outputs": [
    {
     "data": {
      "text/html": [
       "<div>\n",
       "<style scoped>\n",
       "    .dataframe tbody tr th:only-of-type {\n",
       "        vertical-align: middle;\n",
       "    }\n",
       "\n",
       "    .dataframe tbody tr th {\n",
       "        vertical-align: top;\n",
       "    }\n",
       "\n",
       "    .dataframe thead th {\n",
       "        text-align: right;\n",
       "    }\n",
       "</style>\n",
       "<table border=\"1\" class=\"dataframe\">\n",
       "  <thead>\n",
       "    <tr style=\"text-align: right;\">\n",
       "      <th></th>\n",
       "      <th>age</th>\n",
       "      <th>bmi</th>\n",
       "      <th>children</th>\n",
       "      <th>charges</th>\n",
       "      <th>sex_encoded</th>\n",
       "      <th>smoker_encoded</th>\n",
       "      <th>region_encoded</th>\n",
       "    </tr>\n",
       "  </thead>\n",
       "  <tbody>\n",
       "    <tr>\n",
       "      <th>0</th>\n",
       "      <td>19</td>\n",
       "      <td>27.900</td>\n",
       "      <td>0</td>\n",
       "      <td>16884.92400</td>\n",
       "      <td>0</td>\n",
       "      <td>1</td>\n",
       "      <td>3</td>\n",
       "    </tr>\n",
       "    <tr>\n",
       "      <th>1</th>\n",
       "      <td>18</td>\n",
       "      <td>33.770</td>\n",
       "      <td>1</td>\n",
       "      <td>1725.55230</td>\n",
       "      <td>1</td>\n",
       "      <td>0</td>\n",
       "      <td>2</td>\n",
       "    </tr>\n",
       "    <tr>\n",
       "      <th>2</th>\n",
       "      <td>28</td>\n",
       "      <td>33.000</td>\n",
       "      <td>3</td>\n",
       "      <td>4449.46200</td>\n",
       "      <td>1</td>\n",
       "      <td>0</td>\n",
       "      <td>2</td>\n",
       "    </tr>\n",
       "    <tr>\n",
       "      <th>3</th>\n",
       "      <td>33</td>\n",
       "      <td>22.705</td>\n",
       "      <td>0</td>\n",
       "      <td>21984.47061</td>\n",
       "      <td>1</td>\n",
       "      <td>0</td>\n",
       "      <td>1</td>\n",
       "    </tr>\n",
       "    <tr>\n",
       "      <th>4</th>\n",
       "      <td>32</td>\n",
       "      <td>28.880</td>\n",
       "      <td>0</td>\n",
       "      <td>3866.85520</td>\n",
       "      <td>1</td>\n",
       "      <td>0</td>\n",
       "      <td>1</td>\n",
       "    </tr>\n",
       "  </tbody>\n",
       "</table>\n",
       "</div>"
      ],
      "text/plain": [
       "   age     bmi  children      charges  sex_encoded  smoker_encoded  \\\n",
       "0   19  27.900         0  16884.92400            0               1   \n",
       "1   18  33.770         1   1725.55230            1               0   \n",
       "2   28  33.000         3   4449.46200            1               0   \n",
       "3   33  22.705         0  21984.47061            1               0   \n",
       "4   32  28.880         0   3866.85520            1               0   \n",
       "\n",
       "   region_encoded  \n",
       "0               3  \n",
       "1               2  \n",
       "2               2  \n",
       "3               1  \n",
       "4               1  "
      ]
     },
     "execution_count": 634,
     "metadata": {},
     "output_type": "execute_result"
    }
   ],
   "source": [
    "df_new.head()"
   ]
  },
  {
   "cell_type": "code",
   "execution_count": 635,
   "id": "a8f45c14",
   "metadata": {},
   "outputs": [],
   "source": [
    "## Scaling the data "
   ]
  },
  {
   "cell_type": "code",
   "execution_count": 636,
   "id": "9a45b402",
   "metadata": {},
   "outputs": [
    {
     "data": {
      "text/html": [
       "<div>\n",
       "<style scoped>\n",
       "    .dataframe tbody tr th:only-of-type {\n",
       "        vertical-align: middle;\n",
       "    }\n",
       "\n",
       "    .dataframe tbody tr th {\n",
       "        vertical-align: top;\n",
       "    }\n",
       "\n",
       "    .dataframe thead th {\n",
       "        text-align: right;\n",
       "    }\n",
       "</style>\n",
       "<table border=\"1\" class=\"dataframe\">\n",
       "  <thead>\n",
       "    <tr style=\"text-align: right;\">\n",
       "      <th></th>\n",
       "      <th>age</th>\n",
       "      <th>bmi</th>\n",
       "      <th>children</th>\n",
       "      <th>charges</th>\n",
       "      <th>sex_encoded</th>\n",
       "      <th>smoker_encoded</th>\n",
       "      <th>region_encoded</th>\n",
       "    </tr>\n",
       "  </thead>\n",
       "  <tbody>\n",
       "    <tr>\n",
       "      <th>0</th>\n",
       "      <td>-1.438764</td>\n",
       "      <td>-0.453320</td>\n",
       "      <td>0</td>\n",
       "      <td>0.298584</td>\n",
       "      <td>0</td>\n",
       "      <td>1</td>\n",
       "      <td>3</td>\n",
       "    </tr>\n",
       "    <tr>\n",
       "      <th>1</th>\n",
       "      <td>-1.509965</td>\n",
       "      <td>0.509621</td>\n",
       "      <td>1</td>\n",
       "      <td>-0.953689</td>\n",
       "      <td>1</td>\n",
       "      <td>0</td>\n",
       "      <td>2</td>\n",
       "    </tr>\n",
       "    <tr>\n",
       "      <th>2</th>\n",
       "      <td>-0.797954</td>\n",
       "      <td>0.383307</td>\n",
       "      <td>3</td>\n",
       "      <td>-0.728675</td>\n",
       "      <td>1</td>\n",
       "      <td>0</td>\n",
       "      <td>2</td>\n",
       "    </tr>\n",
       "    <tr>\n",
       "      <th>3</th>\n",
       "      <td>-0.441948</td>\n",
       "      <td>-1.305531</td>\n",
       "      <td>0</td>\n",
       "      <td>0.719843</td>\n",
       "      <td>1</td>\n",
       "      <td>0</td>\n",
       "      <td>1</td>\n",
       "    </tr>\n",
       "    <tr>\n",
       "      <th>4</th>\n",
       "      <td>-0.513149</td>\n",
       "      <td>-0.292556</td>\n",
       "      <td>0</td>\n",
       "      <td>-0.776802</td>\n",
       "      <td>1</td>\n",
       "      <td>0</td>\n",
       "      <td>1</td>\n",
       "    </tr>\n",
       "  </tbody>\n",
       "</table>\n",
       "</div>"
      ],
      "text/plain": [
       "        age       bmi  children   charges  sex_encoded  smoker_encoded  \\\n",
       "0 -1.438764 -0.453320         0  0.298584            0               1   \n",
       "1 -1.509965  0.509621         1 -0.953689            1               0   \n",
       "2 -0.797954  0.383307         3 -0.728675            1               0   \n",
       "3 -0.441948 -1.305531         0  0.719843            1               0   \n",
       "4 -0.513149 -0.292556         0 -0.776802            1               0   \n",
       "\n",
       "   region_encoded  \n",
       "0               3  \n",
       "1               2  \n",
       "2               2  \n",
       "3               1  \n",
       "4               1  "
      ]
     },
     "execution_count": 636,
     "metadata": {},
     "output_type": "execute_result"
    }
   ],
   "source": [
    "from sklearn.preprocessing import StandardScaler\n",
    "data_pre = df_new.copy() # copying the current encoded data it will undergo further processing to make it more suitable\n",
    " \n",
    "Bmi_v2 = data_pre.bmi\n",
    "Bmi_v2 = Bmi_v2.values.reshape(-1,1)\n",
    "data_pre['bmi'] = StandardScaler().fit_transform(Bmi_v2)\n",
    " \n",
    "Age_v2 = data_pre.age\n",
    "Age_v2 = Age_v2.values.reshape(-1,1)\n",
    "data_pre['age'] = StandardScaler().fit_transform(Age_v2)\n",
    " \n",
    "Charges_v2 = data_pre.charges\n",
    "Charges_v2 = Charges_v2.values.reshape(-1,1)\n",
    "data_pre['charges'] = StandardScaler().fit_transform(Charges_v2)\n",
    " \n",
    "data_pre.head()"
   ]
  },
  {
   "cell_type": "markdown",
   "id": "a7b6358e",
   "metadata": {},
   "source": [
    "In the below section is where the machine learning algorithms are used to predict the cost of healthcare. The following code shows a step-by-step process."
   ]
  },
  {
   "cell_type": "markdown",
   "id": "432a0387",
   "metadata": {},
   "source": [
    "### Linear Regression"
   ]
  },
  {
   "cell_type": "markdown",
   "id": "0373c4fe",
   "metadata": {},
   "source": [
    "The first machine learning algorithm is Linear regression. This is used to predict the value of an explanatory variable based on the value of the dependent variable."
   ]
  },
  {
   "cell_type": "code",
   "execution_count": 637,
   "id": "21b4616a",
   "metadata": {},
   "outputs": [],
   "source": [
    "from sklearn.linear_model import LinearRegression # import the relevant Library "
   ]
  },
  {
   "cell_type": "code",
   "execution_count": 638,
   "id": "c4b61d11",
   "metadata": {},
   "outputs": [],
   "source": [
    "X = data_pre.drop('charges', axis = 1) \n",
    "y = data_pre['charges'] # dependent variable\n",
    "\n",
    "X_train, X_test, y_train, y_test= train_test_split(X, y, \n",
    "                                                   test_size=0.2, random_state=42)"
   ]
  },
  {
   "cell_type": "markdown",
   "id": "81ed2632",
   "metadata": {},
   "source": [
    "scaler= StandardScaler()\n",
    "scaler.fit(X_train)\n",
    "\n",
    "X_train_scaled= scaler.transform(X_train)\n",
    "X_test_scaled= scaler.transform(X_test)"
   ]
  },
  {
   "cell_type": "code",
   "execution_count": 639,
   "id": "ba4e5910",
   "metadata": {},
   "outputs": [],
   "source": [
    "linear_reg_model= LinearRegression() \n",
    "plr = linear_reg_model.fit(X_train, y_train)"
   ]
  },
  {
   "cell_type": "code",
   "execution_count": 640,
   "id": "d9ffae77",
   "metadata": {},
   "outputs": [
    {
     "data": {
      "text/html": [
       "<div>\n",
       "<style scoped>\n",
       "    .dataframe tbody tr th:only-of-type {\n",
       "        vertical-align: middle;\n",
       "    }\n",
       "\n",
       "    .dataframe tbody tr th {\n",
       "        vertical-align: top;\n",
       "    }\n",
       "\n",
       "    .dataframe thead th {\n",
       "        text-align: right;\n",
       "    }\n",
       "</style>\n",
       "<table border=\"1\" class=\"dataframe\">\n",
       "  <thead>\n",
       "    <tr style=\"text-align: right;\">\n",
       "      <th></th>\n",
       "      <th>Metrics</th>\n",
       "    </tr>\n",
       "  </thead>\n",
       "  <tbody>\n",
       "    <tr>\n",
       "      <th>MAE Linear Regression</th>\n",
       "      <td>0.345836</td>\n",
       "    </tr>\n",
       "    <tr>\n",
       "      <th>MSE Linear Regression</th>\n",
       "      <td>0.229525</td>\n",
       "    </tr>\n",
       "    <tr>\n",
       "      <th>RMSE Linear Regression</th>\n",
       "      <td>0.479088</td>\n",
       "    </tr>\n",
       "  </tbody>\n",
       "</table>\n",
       "</div>"
      ],
      "text/plain": [
       "                         Metrics\n",
       "MAE Linear Regression   0.345836\n",
       "MSE Linear Regression   0.229525\n",
       "RMSE Linear Regression  0.479088"
      ]
     },
     "execution_count": 640,
     "metadata": {},
     "output_type": "execute_result"
    }
   ],
   "source": [
    "#y_pred = linear_reg_model.predict(X_test_scaled)\n",
    "\n",
    "y_pred = linear_reg_model.predict(X_test) \n",
    "y_pred = pd.DataFrame(y_pred)\n",
    "\n",
    "MAE_li_reg= metrics.mean_absolute_error(y_test, y_pred) # calculate the metric values\n",
    "MSE_li_reg = metrics.mean_squared_error(y_test, y_pred)\n",
    "RMSE_li_reg =np.sqrt(MSE_li_reg)\n",
    "\n",
    "df_linearreg = pd.DataFrame([MAE_li_reg, MSE_li_reg, RMSE_li_reg], \n",
    "             index=['MAE Linear Regression', 'MSE Linear Regression', 'RMSE Linear Regression'], columns=['Metrics'])\n",
    "df_linearreg"
   ]
  },
  {
   "cell_type": "code",
   "execution_count": 641,
   "id": "fe097dda",
   "metadata": {},
   "outputs": [
    {
     "data": {
      "text/plain": [
       "0.7833463107364538"
      ]
     },
     "execution_count": 641,
     "metadata": {},
     "output_type": "execute_result"
    }
   ],
   "source": [
    "r_lr = r2_score(y_test, y_pred)\n",
    "r_lr"
   ]
  },
  {
   "cell_type": "code",
   "execution_count": 642,
   "id": "f129e69d",
   "metadata": {},
   "outputs": [
    {
     "name": "stdout",
     "output_type": "stream",
     "text": [
      "Accuracy = 0.7833463107364538\n"
     ]
    }
   ],
   "source": [
    "lr_accuracy = linear_reg_model.score(X_test, y_test)\n",
    "print('Accuracy = '+ str(lr_accuracy)) # this is a different formula to make note of the r2"
   ]
  },
  {
   "cell_type": "markdown",
   "id": "a2879353",
   "metadata": {},
   "source": [
    "### Ridge Regression"
   ]
  },
  {
   "cell_type": "markdown",
   "id": "c39f2d03",
   "metadata": {},
   "source": [
    "The next algorithm used was Ridge regression, this is an extension of linear regression adds a regularization penalty to the loss function during training. "
   ]
  },
  {
   "cell_type": "code",
   "execution_count": 699,
   "id": "6aee93da",
   "metadata": {},
   "outputs": [],
   "source": [
    "from sklearn.linear_model import Ridge #import library"
   ]
  },
  {
   "cell_type": "code",
   "execution_count": 700,
   "id": "35b48d55",
   "metadata": {},
   "outputs": [],
   "source": [
    "X = data_pre.drop('charges', axis = 1)\n",
    "y = data_pre['charges']\n",
    "\n",
    "X_train,X_test,y_train,y_test=train_test_split(X, y, \n",
    "                                               test_size=0.2,random_state=46)\n",
    "                                              "
   ]
  },
  {
   "cell_type": "code",
   "execution_count": 701,
   "id": "469e7c04",
   "metadata": {},
   "outputs": [],
   "source": [
    "ridge_model=Ridge().fit(X_train,y_train)"
   ]
  },
  {
   "cell_type": "code",
   "execution_count": 702,
   "id": "969b98c4",
   "metadata": {},
   "outputs": [
    {
     "data": {
      "text/html": [
       "<div>\n",
       "<style scoped>\n",
       "    .dataframe tbody tr th:only-of-type {\n",
       "        vertical-align: middle;\n",
       "    }\n",
       "\n",
       "    .dataframe tbody tr th {\n",
       "        vertical-align: top;\n",
       "    }\n",
       "\n",
       "    .dataframe thead th {\n",
       "        text-align: right;\n",
       "    }\n",
       "</style>\n",
       "<table border=\"1\" class=\"dataframe\">\n",
       "  <thead>\n",
       "    <tr style=\"text-align: right;\">\n",
       "      <th></th>\n",
       "      <th>Metrics</th>\n",
       "    </tr>\n",
       "  </thead>\n",
       "  <tbody>\n",
       "    <tr>\n",
       "      <th>MAE Ridge</th>\n",
       "      <td>0.339000</td>\n",
       "    </tr>\n",
       "    <tr>\n",
       "      <th>MSE Ridge</th>\n",
       "      <td>0.232647</td>\n",
       "    </tr>\n",
       "    <tr>\n",
       "      <th>RMSE Ridge</th>\n",
       "      <td>0.482335</td>\n",
       "    </tr>\n",
       "  </tbody>\n",
       "</table>\n",
       "</div>"
      ],
      "text/plain": [
       "             Metrics\n",
       "MAE Ridge   0.339000\n",
       "MSE Ridge   0.232647\n",
       "RMSE Ridge  0.482335"
      ]
     },
     "execution_count": 702,
     "metadata": {},
     "output_type": "execute_result"
    }
   ],
   "source": [
    "y_pred = ridge_model.predict(X_test)\n",
    "y_pred = pd.DataFrame(y_pred)\n",
    "\n",
    "MAE_ridge_model= metrics.mean_absolute_error(y_test, y_pred)\n",
    "MSE_ridge_model = metrics.mean_squared_error(y_test, y_pred)\n",
    "RMSE_ridge_model =np.sqrt(MSE_ridge_model)\n",
    "\n",
    "df_ridge = pd.DataFrame([MAE_ridge_model, MSE_ridge_model, RMSE_ridge_model], \n",
    "             index=['MAE Ridge', 'MSE Ridge', 'RMSE Ridge'], columns=['Metrics'])\n",
    "df_ridge # ouptut a dataframe with the metrics that will be analysed"
   ]
  },
  {
   "cell_type": "code",
   "execution_count": 703,
   "id": "6ac98880",
   "metadata": {},
   "outputs": [
    {
     "data": {
      "text/plain": [
       "0.7667018581222799"
      ]
     },
     "execution_count": 703,
     "metadata": {},
     "output_type": "execute_result"
    }
   ],
   "source": [
    "r_ridge = r2_score(y_test, y_pred)\n",
    "r_ridge"
   ]
  },
  {
   "cell_type": "code",
   "execution_count": 706,
   "id": "255b9f1e",
   "metadata": {},
   "outputs": [
    {
     "name": "stdout",
     "output_type": "stream",
     "text": [
      "Accuracy = 0.7667018581222799\n"
     ]
    }
   ],
   "source": [
    "ridge_accuracy = ridge_model.score(X_test, y_test)\n",
    "print('Accuracy = '+ str(ridge_accuracy))"
   ]
  },
  {
   "cell_type": "markdown",
   "id": "a5168553",
   "metadata": {},
   "source": [
    "### Lasso Regression"
   ]
  },
  {
   "cell_type": "code",
   "execution_count": 649,
   "id": "3930e949",
   "metadata": {},
   "outputs": [],
   "source": [
    "from sklearn.linear_model import Lasso"
   ]
  },
  {
   "cell_type": "code",
   "execution_count": 650,
   "id": "89fbdd39",
   "metadata": {},
   "outputs": [],
   "source": [
    "X = data_pre.drop('charges', axis = 1)\n",
    "y = data_pre['charges']\n",
    "\n",
    "X_train,X_test,y_train,y_test=train_test_split(X, y, \n",
    "                                               test_size=0.2,random_state=100)"
   ]
  },
  {
   "cell_type": "code",
   "execution_count": 651,
   "id": "083569ec",
   "metadata": {},
   "outputs": [],
   "source": [
    "lasso_model = Lasso(alpha=1.0)\n",
    "lasso=lasso_model.fit(X_train, y_train)"
   ]
  },
  {
   "cell_type": "code",
   "execution_count": 652,
   "id": "c0fc12bb",
   "metadata": {},
   "outputs": [
    {
     "data": {
      "text/html": [
       "<div>\n",
       "<style scoped>\n",
       "    .dataframe tbody tr th:only-of-type {\n",
       "        vertical-align: middle;\n",
       "    }\n",
       "\n",
       "    .dataframe tbody tr th {\n",
       "        vertical-align: top;\n",
       "    }\n",
       "\n",
       "    .dataframe thead th {\n",
       "        text-align: right;\n",
       "    }\n",
       "</style>\n",
       "<table border=\"1\" class=\"dataframe\">\n",
       "  <thead>\n",
       "    <tr style=\"text-align: right;\">\n",
       "      <th></th>\n",
       "      <th>Metrics</th>\n",
       "    </tr>\n",
       "  </thead>\n",
       "  <tbody>\n",
       "    <tr>\n",
       "      <th>MAE lasso</th>\n",
       "      <td>0.923032</td>\n",
       "    </tr>\n",
       "    <tr>\n",
       "      <th>MSE</th>\n",
       "      <td>1.665488</td>\n",
       "    </tr>\n",
       "    <tr>\n",
       "      <th>RMSE</th>\n",
       "      <td>1.290538</td>\n",
       "    </tr>\n",
       "  </tbody>\n",
       "</table>\n",
       "</div>"
      ],
      "text/plain": [
       "            Metrics\n",
       "MAE lasso  0.923032\n",
       "MSE        1.665488\n",
       "RMSE       1.290538"
      ]
     },
     "execution_count": 652,
     "metadata": {},
     "output_type": "execute_result"
    }
   ],
   "source": [
    "lasso_predict = lasso.predict(X_test)\n",
    "y_pred = pd.DataFrame(y_pred)\n",
    "MAE_lasso_predict = metrics.mean_absolute_error(y_test, y_pred)\n",
    "MSE_lasso_predict = metrics.mean_squared_error(y_test, y_pred)\n",
    "RMSE_lasso_predict =np.sqrt(MSE_lasso_predict)\n",
    "\n",
    "df_lasso = pd.DataFrame([MAE_lasso_predict, MSE_lasso_predict, RMSE_lasso_predict], \n",
    "             index=['MAE lasso', 'MSE', 'RMSE'], columns=['Metrics'])\n",
    "df_lasso"
   ]
  },
  {
   "cell_type": "code",
   "execution_count": 653,
   "id": "11f2dc5a",
   "metadata": {},
   "outputs": [
    {
     "data": {
      "text/plain": [
       "-0.5564581088565381"
      ]
     },
     "execution_count": 653,
     "metadata": {},
     "output_type": "execute_result"
    }
   ],
   "source": [
    "r_lasso = r2_score(y_test, y_pred)\n",
    "r_lasso"
   ]
  },
  {
   "cell_type": "code",
   "execution_count": null,
   "id": "d6e66594",
   "metadata": {},
   "outputs": [],
   "source": []
  },
  {
   "cell_type": "markdown",
   "id": "88069566",
   "metadata": {},
   "source": [
    "### XGBRegressor"
   ]
  },
  {
   "cell_type": "code",
   "execution_count": 654,
   "id": "5b3f13bc",
   "metadata": {},
   "outputs": [],
   "source": [
    "from sklearn.model_selection import train_test_split\n",
    "import xgboost as xgb\n",
    "\n",
    "X_train, X_test, y_train, y_test = train_test_split(X, y, test_size=0.2, random_state=123)"
   ]
  },
  {
   "cell_type": "code",
   "execution_count": 655,
   "id": "ac0491d1",
   "metadata": {},
   "outputs": [],
   "source": [
    "X = data_pre.drop('charges', axis = 1)\n",
    "y = data_pre['charges']\n",
    "\n",
    "X_train, X_test, y_train, y_test= train_test_split(X, y, \n",
    "                                                   test_size=0.2, random_state=123)"
   ]
  },
  {
   "cell_type": "code",
   "execution_count": 656,
   "id": "c9a6a1db",
   "metadata": {},
   "outputs": [
    {
     "data": {
      "text/plain": [
       "XGBRegressor(base_score=0.5, booster='gbtree', callbacks=None,\n",
       "             colsample_bylevel=1, colsample_bynode=1, colsample_bytree=1,\n",
       "             early_stopping_rounds=None, enable_categorical=False,\n",
       "             eval_metric=None, gamma=0, gpu_id=-1, grow_policy='depthwise',\n",
       "             importance_type=None, interaction_constraints='',\n",
       "             learning_rate=0.12, max_bin=256, max_cat_to_onehot=4,\n",
       "             max_delta_step=0, max_depth=5, max_leaves=0, min_child_weight=1,\n",
       "             missing=nan, monotone_constraints='()', n_estimators=1000,\n",
       "             n_jobs=0, num_parallel_tree=1, predictor='auto', random_state=0,\n",
       "             reg_alpha=0, reg_lambda=1, ...)"
      ]
     },
     "execution_count": 656,
     "metadata": {},
     "output_type": "execute_result"
    }
   ],
   "source": [
    "xgb = xgb.XGBRegressor(objective='reg:squarederror',\n",
    "    n_estimators=1000,\n",
    "    learning_rate=0.12,\n",
    "    subsample=0.5,\n",
    "    colsample_bytree=1, \n",
    "    max_depth=5,\n",
    ")\n",
    "xgb.fit(X_train, y_train)"
   ]
  },
  {
   "cell_type": "code",
   "execution_count": 657,
   "id": "0c67c52d",
   "metadata": {},
   "outputs": [],
   "source": [
    "xgb.fit(X_train,y_train)\n",
    "predictions = xgb.predict(X_test)"
   ]
  },
  {
   "cell_type": "code",
   "execution_count": 658,
   "id": "3d88bd97",
   "metadata": {},
   "outputs": [
    {
     "data": {
      "text/html": [
       "<div>\n",
       "<style scoped>\n",
       "    .dataframe tbody tr th:only-of-type {\n",
       "        vertical-align: middle;\n",
       "    }\n",
       "\n",
       "    .dataframe tbody tr th {\n",
       "        vertical-align: top;\n",
       "    }\n",
       "\n",
       "    .dataframe thead th {\n",
       "        text-align: right;\n",
       "    }\n",
       "</style>\n",
       "<table border=\"1\" class=\"dataframe\">\n",
       "  <thead>\n",
       "    <tr style=\"text-align: right;\">\n",
       "      <th></th>\n",
       "      <th>Metrics</th>\n",
       "    </tr>\n",
       "  </thead>\n",
       "  <tbody>\n",
       "    <tr>\n",
       "      <th>MAE XGB</th>\n",
       "      <td>0.266169</td>\n",
       "    </tr>\n",
       "    <tr>\n",
       "      <th>MSE XGB</th>\n",
       "      <td>0.160760</td>\n",
       "    </tr>\n",
       "    <tr>\n",
       "      <th>RMSE  XGB</th>\n",
       "      <td>0.400949</td>\n",
       "    </tr>\n",
       "  </tbody>\n",
       "</table>\n",
       "</div>"
      ],
      "text/plain": [
       "            Metrics\n",
       "MAE XGB    0.266169\n",
       "MSE XGB    0.160760\n",
       "RMSE  XGB  0.400949"
      ]
     },
     "execution_count": 658,
     "metadata": {},
     "output_type": "execute_result"
    }
   ],
   "source": [
    "y_pred = xgb.predict(X_test)\n",
    "y_pred = pd.DataFrame(y_pred)\n",
    "MAE_xgb = metrics.mean_absolute_error(y_test, y_pred)\n",
    "MSE_xgb= metrics.mean_squared_error(y_test, y_pred)\n",
    "RMSE_xgb =np.sqrt(MSE_xgb)\n",
    "\n",
    "df_xgb = pd.DataFrame([MAE_xgb, MSE_xgb, RMSE_xgb], \n",
    "             index=['MAE XGB', 'MSE XGB', 'RMSE  XGB'], columns=['Metrics'])\n",
    "df_xgb"
   ]
  },
  {
   "cell_type": "code",
   "execution_count": 659,
   "id": "46d96a81",
   "metadata": {},
   "outputs": [
    {
     "data": {
      "text/plain": [
       "0.845919321582291"
      ]
     },
     "execution_count": 659,
     "metadata": {},
     "output_type": "execute_result"
    }
   ],
   "source": [
    "r_xgb = r2_score(y_test, y_pred)\n",
    "r_xgb"
   ]
  },
  {
   "cell_type": "code",
   "execution_count": 660,
   "id": "645c00a9",
   "metadata": {},
   "outputs": [
    {
     "name": "stdout",
     "output_type": "stream",
     "text": [
      "Accuracy = 0.845919321582291\n"
     ]
    }
   ],
   "source": [
    "xgb_accuracy = xgb.score(X_test, y_test)\n",
    "print('Accuracy = '+ str(xgb_accuracy))"
   ]
  },
  {
   "cell_type": "markdown",
   "id": "12003484",
   "metadata": {},
   "source": [
    "from sklearn.metrics import r2_score\n",
    "r2 = np.sqrt(r2_score(y_test, predictions))\n",
    "print(\"R_Squared Score : %f\" % (r2))"
   ]
  },
  {
   "cell_type": "code",
   "execution_count": null,
   "id": "524540d2",
   "metadata": {},
   "outputs": [],
   "source": []
  },
  {
   "cell_type": "markdown",
   "id": "b05d3718",
   "metadata": {},
   "source": [
    "### Random Forest Regressor"
   ]
  },
  {
   "cell_type": "code",
   "execution_count": 661,
   "id": "b705d0ac",
   "metadata": {},
   "outputs": [],
   "source": [
    "X = data_pre.drop('charges', axis = 1)\n",
    "y = data_pre['charges']\n",
    "\n",
    "#X_train, X_test, y_train, y_test= train_test_split(X, y, \n",
    "                                                  # test_size=0.2, random_state=100)"
   ]
  },
  {
   "cell_type": "code",
   "execution_count": 662,
   "id": "39cf8e72",
   "metadata": {},
   "outputs": [
    {
     "data": {
      "text/plain": [
       "RandomForestRegressor(random_state=10)"
      ]
     },
     "execution_count": 662,
     "metadata": {},
     "output_type": "execute_result"
    }
   ],
   "source": [
    "from sklearn.ensemble import RandomForestRegressor\n",
    "  \n",
    " # create regressor object\n",
    "random_forest = RandomForestRegressor(n_estimators = 100, random_state = 10)\n",
    "  \n",
    "# fit the regressor with x and y data\n",
    "random_forest.fit(X, y)  "
   ]
  },
  {
   "cell_type": "code",
   "execution_count": 663,
   "id": "2d01481f",
   "metadata": {},
   "outputs": [
    {
     "data": {
      "text/html": [
       "<div>\n",
       "<style scoped>\n",
       "    .dataframe tbody tr th:only-of-type {\n",
       "        vertical-align: middle;\n",
       "    }\n",
       "\n",
       "    .dataframe tbody tr th {\n",
       "        vertical-align: top;\n",
       "    }\n",
       "\n",
       "    .dataframe thead th {\n",
       "        text-align: right;\n",
       "    }\n",
       "</style>\n",
       "<table border=\"1\" class=\"dataframe\">\n",
       "  <thead>\n",
       "    <tr style=\"text-align: right;\">\n",
       "      <th></th>\n",
       "      <th>Metrics</th>\n",
       "    </tr>\n",
       "  </thead>\n",
       "  <tbody>\n",
       "    <tr>\n",
       "      <th>MAE RF</th>\n",
       "      <td>0.074547</td>\n",
       "    </tr>\n",
       "    <tr>\n",
       "      <th>MSE RF</th>\n",
       "      <td>0.017117</td>\n",
       "    </tr>\n",
       "    <tr>\n",
       "      <th>RMSE RF</th>\n",
       "      <td>0.130831</td>\n",
       "    </tr>\n",
       "  </tbody>\n",
       "</table>\n",
       "</div>"
      ],
      "text/plain": [
       "          Metrics\n",
       "MAE RF   0.074547\n",
       "MSE RF   0.017117\n",
       "RMSE RF  0.130831"
      ]
     },
     "execution_count": 663,
     "metadata": {},
     "output_type": "execute_result"
    }
   ],
   "source": [
    "y_pred = random_forest.predict(X_test)\n",
    "y_pred = pd.DataFrame(y_pred)\n",
    "MAE_random_forest= metrics.mean_absolute_error(y_test, y_pred)\n",
    "MSE_random_forest = metrics.mean_squared_error(y_test, y_pred)\n",
    "RMSE_random_forest =np.sqrt(MSE_random_forest)\n",
    "\n",
    "df_randomforest = pd.DataFrame([MAE_random_forest, MSE_random_forest, RMSE_random_forest], \n",
    "             index=['MAE RF', 'MSE RF', 'RMSE RF'], columns=['Metrics'])\n",
    "df_randomforest"
   ]
  },
  {
   "cell_type": "code",
   "execution_count": 664,
   "id": "5437cf0c",
   "metadata": {},
   "outputs": [],
   "source": [
    "r_rf = r2_score(y_test, y_pred)"
   ]
  },
  {
   "cell_type": "code",
   "execution_count": 665,
   "id": "f6b1c9d8",
   "metadata": {},
   "outputs": [
    {
     "name": "stdout",
     "output_type": "stream",
     "text": [
      "Accuracy = 0.9835944783501921\n"
     ]
    }
   ],
   "source": [
    "rf_accuracy = random_forest.score(X_test, y_test)\n",
    "print('Accuracy = '+ str(rf_accuracy))"
   ]
  },
  {
   "cell_type": "markdown",
   "id": "dfbc6242",
   "metadata": {},
   "source": [
    "### Decision Tree"
   ]
  },
  {
   "cell_type": "code",
   "execution_count": 666,
   "id": "d3397b6d",
   "metadata": {},
   "outputs": [],
   "source": [
    "from sklearn.tree import DecisionTreeRegressor"
   ]
  },
  {
   "cell_type": "code",
   "execution_count": 667,
   "id": "5073bde9",
   "metadata": {},
   "outputs": [
    {
     "data": {
      "text/plain": [
       "DecisionTreeRegressor(random_state=10)"
      ]
     },
     "execution_count": 667,
     "metadata": {},
     "output_type": "execute_result"
    }
   ],
   "source": [
    "X = data_pre.drop('charges', axis = 1)\n",
    "y = data_pre['charges']\n",
    "\n",
    "decision_tree = DecisionTreeRegressor(random_state = 10)\n",
    "decision_tree.fit(X_train, y_train)"
   ]
  },
  {
   "cell_type": "code",
   "execution_count": 668,
   "id": "64b82594",
   "metadata": {},
   "outputs": [
    {
     "data": {
      "text/html": [
       "<div>\n",
       "<style scoped>\n",
       "    .dataframe tbody tr th:only-of-type {\n",
       "        vertical-align: middle;\n",
       "    }\n",
       "\n",
       "    .dataframe tbody tr th {\n",
       "        vertical-align: top;\n",
       "    }\n",
       "\n",
       "    .dataframe thead th {\n",
       "        text-align: right;\n",
       "    }\n",
       "</style>\n",
       "<table border=\"1\" class=\"dataframe\">\n",
       "  <thead>\n",
       "    <tr style=\"text-align: right;\">\n",
       "      <th></th>\n",
       "      <th>Metrics</th>\n",
       "    </tr>\n",
       "  </thead>\n",
       "  <tbody>\n",
       "    <tr>\n",
       "      <th>MAE DT</th>\n",
       "      <td>0.234997</td>\n",
       "    </tr>\n",
       "    <tr>\n",
       "      <th>MSE DT</th>\n",
       "      <td>0.256039</td>\n",
       "    </tr>\n",
       "    <tr>\n",
       "      <th>RMSE DT</th>\n",
       "      <td>0.506003</td>\n",
       "    </tr>\n",
       "  </tbody>\n",
       "</table>\n",
       "</div>"
      ],
      "text/plain": [
       "          Metrics\n",
       "MAE DT   0.234997\n",
       "MSE DT   0.256039\n",
       "RMSE DT  0.506003"
      ]
     },
     "execution_count": 668,
     "metadata": {},
     "output_type": "execute_result"
    }
   ],
   "source": [
    "y_pred = decision_tree.predict(X_test)\n",
    "y_pred = pd.DataFrame(y_pred)\n",
    "MAE_decision_tree= metrics.mean_absolute_error(y_test, y_pred)\n",
    "MSE_decision_tree = metrics.mean_squared_error(y_test, y_pred)\n",
    "RMSE_decision_tree =np.sqrt(MSE_decision_tree)\n",
    "\n",
    "df_decisiontree = pd.DataFrame([MAE_decision_tree, MSE_decision_tree, RMSE_decision_tree], \n",
    "             index=['MAE DT', 'MSE DT', 'RMSE DT'], columns=['Metrics'])\n",
    "df_decisiontree"
   ]
  },
  {
   "cell_type": "code",
   "execution_count": 669,
   "id": "a75dc407",
   "metadata": {},
   "outputs": [
    {
     "data": {
      "text/plain": [
       "0.7545991225593807"
      ]
     },
     "execution_count": 669,
     "metadata": {},
     "output_type": "execute_result"
    }
   ],
   "source": [
    "r_dt = r2_score(y_test, y_pred)\n",
    "r_dt"
   ]
  },
  {
   "cell_type": "code",
   "execution_count": 670,
   "id": "25820c10",
   "metadata": {},
   "outputs": [
    {
     "name": "stdout",
     "output_type": "stream",
     "text": [
      "Accuracy = 0.7545991225593807\n"
     ]
    }
   ],
   "source": [
    "dt_accuracy = decision_tree.score(X_test, y_test)\n",
    "print('Accuracy = '+ str(dt_accuracy))"
   ]
  },
  {
   "cell_type": "markdown",
   "id": "77702b35",
   "metadata": {},
   "source": [
    "### CatBoost"
   ]
  },
  {
   "cell_type": "code",
   "execution_count": 671,
   "id": "5c1be7dc",
   "metadata": {},
   "outputs": [],
   "source": [
    "from catboost import CatBoostRegressor"
   ]
  },
  {
   "cell_type": "code",
   "execution_count": 672,
   "id": "ca33ece1",
   "metadata": {},
   "outputs": [],
   "source": [
    "X = data_pre.drop('charges', axis = 1)\n",
    "y = data_pre['charges']"
   ]
  },
  {
   "cell_type": "code",
   "execution_count": 673,
   "id": "2b54c727",
   "metadata": {},
   "outputs": [],
   "source": [
    "catboost_model = CatBoostRegressor(iterations=200, verbose=False)"
   ]
  },
  {
   "cell_type": "code",
   "execution_count": 674,
   "id": "d11d481b",
   "metadata": {},
   "outputs": [
    {
     "data": {
      "text/html": [
       "<div>\n",
       "<style scoped>\n",
       "    .dataframe tbody tr th:only-of-type {\n",
       "        vertical-align: middle;\n",
       "    }\n",
       "\n",
       "    .dataframe tbody tr th {\n",
       "        vertical-align: top;\n",
       "    }\n",
       "\n",
       "    .dataframe thead th {\n",
       "        text-align: right;\n",
       "    }\n",
       "</style>\n",
       "<table border=\"1\" class=\"dataframe\">\n",
       "  <thead>\n",
       "    <tr style=\"text-align: right;\">\n",
       "      <th></th>\n",
       "      <th>Metrics</th>\n",
       "    </tr>\n",
       "  </thead>\n",
       "  <tbody>\n",
       "    <tr>\n",
       "      <th>MAE Catboost</th>\n",
       "      <td>0.204078</td>\n",
       "    </tr>\n",
       "    <tr>\n",
       "      <th>MSE Catboost</th>\n",
       "      <td>0.117276</td>\n",
       "    </tr>\n",
       "    <tr>\n",
       "      <th>RMSE Catboost</th>\n",
       "      <td>0.267274</td>\n",
       "    </tr>\n",
       "  </tbody>\n",
       "</table>\n",
       "</div>"
      ],
      "text/plain": [
       "                Metrics\n",
       "MAE Catboost   0.204078\n",
       "MSE Catboost   0.117276\n",
       "RMSE Catboost  0.267274"
      ]
     },
     "execution_count": 674,
     "metadata": {},
     "output_type": "execute_result"
    }
   ],
   "source": [
    "catboost_model.fit(X_train, y_train)\n",
    "\n",
    "y_pred = catboost_model.predict(X_test)\n",
    "y_pred = pd.DataFrame(y_pred)\n",
    "MAE_catboost_model= metrics.mean_absolute_error(y_test, y_pred)\n",
    "MSE_catboost_model = metrics.mean_squared_error(y_test, y_pred)\n",
    "RMSE_catboost_model =np.sqrt(MSE_regressor)\n",
    "\n",
    "df_catboost = pd.DataFrame([MAE_catboost_model, MSE_catboost_model, RMSE_catboost_model], \n",
    "             index=['MAE Catboost', 'MSE Catboost', 'RMSE Catboost'], columns=['Metrics'])\n",
    "df_catboost"
   ]
  },
  {
   "cell_type": "code",
   "execution_count": 675,
   "id": "9cc76494",
   "metadata": {},
   "outputs": [
    {
     "data": {
      "text/plain": [
       "0.8875970077887563"
      ]
     },
     "execution_count": 675,
     "metadata": {},
     "output_type": "execute_result"
    }
   ],
   "source": [
    "r_cat = r2_score(y_test, y_pred)\n",
    "r_cat"
   ]
  },
  {
   "cell_type": "code",
   "execution_count": 676,
   "id": "c4b94b18",
   "metadata": {},
   "outputs": [
    {
     "name": "stdout",
     "output_type": "stream",
     "text": [
      "Accuracy = 0.8875970077887563\n"
     ]
    }
   ],
   "source": [
    "cat_accuracy = catboost_model.score(X_test, y_test)\n",
    "print('Accuracy = '+ str(cat_accuracy))"
   ]
  },
  {
   "cell_type": "code",
   "execution_count": 707,
   "id": "dc1872b0",
   "metadata": {},
   "outputs": [
    {
     "data": {
      "text/html": [
       "<div>\n",
       "<style scoped>\n",
       "    .dataframe tbody tr th:only-of-type {\n",
       "        vertical-align: middle;\n",
       "    }\n",
       "\n",
       "    .dataframe tbody tr th {\n",
       "        vertical-align: top;\n",
       "    }\n",
       "\n",
       "    .dataframe thead th {\n",
       "        text-align: right;\n",
       "    }\n",
       "</style>\n",
       "<table border=\"1\" class=\"dataframe\">\n",
       "  <thead>\n",
       "    <tr style=\"text-align: right;\">\n",
       "      <th></th>\n",
       "      <th>R squared</th>\n",
       "      <th>Accuracy</th>\n",
       "    </tr>\n",
       "  </thead>\n",
       "  <tbody>\n",
       "    <tr>\n",
       "      <th>Catboost</th>\n",
       "      <td>0.887597</td>\n",
       "      <td>0.887597</td>\n",
       "    </tr>\n",
       "    <tr>\n",
       "      <th>Decision Tree</th>\n",
       "      <td>0.754599</td>\n",
       "      <td>0.754599</td>\n",
       "    </tr>\n",
       "    <tr>\n",
       "      <th>Random Forest</th>\n",
       "      <td>0.983594</td>\n",
       "      <td>0.983594</td>\n",
       "    </tr>\n",
       "    <tr>\n",
       "      <th>XGB</th>\n",
       "      <td>0.845919</td>\n",
       "      <td>0.845919</td>\n",
       "    </tr>\n",
       "    <tr>\n",
       "      <th>Ridge Regression</th>\n",
       "      <td>0.766702</td>\n",
       "      <td>0.766702</td>\n",
       "    </tr>\n",
       "    <tr>\n",
       "      <th>Lasso Regression</th>\n",
       "      <td>-0.556458</td>\n",
       "      <td>NAN</td>\n",
       "    </tr>\n",
       "    <tr>\n",
       "      <th>Linear Regression</th>\n",
       "      <td>0.783346</td>\n",
       "      <td>0.783346</td>\n",
       "    </tr>\n",
       "  </tbody>\n",
       "</table>\n",
       "</div>"
      ],
      "text/plain": [
       "                   R squared  Accuracy\n",
       "Catboost            0.887597  0.887597\n",
       "Decision Tree       0.754599  0.754599\n",
       "Random Forest       0.983594  0.983594\n",
       "XGB                 0.845919  0.845919\n",
       "Ridge Regression    0.766702  0.766702\n",
       "Lasso Regression   -0.556458       NAN\n",
       "Linear Regression   0.783346  0.783346"
      ]
     },
     "execution_count": 707,
     "metadata": {},
     "output_type": "execute_result"
    }
   ],
   "source": [
    "overall = [(r_cat, cat_accuracy), (r_dt,dt_accuracy), (r_rf,rf_accuracy ),\n",
    "       (r_xgb, xgb_accuracy), (r_ridge, ridge_accuracy),  (r_lasso,  'NAN'), \n",
    "       (r_lr,lr_accuracy)]\n",
    "  \n",
    "# Create the pandas DataFrame with column names\n",
    "r_and_accuracy = pd.DataFrame(overall, columns=['R squared', 'Accuracy'], index = ['Catboost', 'Decision Tree', 'Random Forest',\n",
    "                                                                   'XGB', 'Ridge Regression', 'Lasso Regression',\n",
    "                                                                   'Linear Regression'])\n",
    "  \n",
    "r_and_accuracy #print dataframe."
   ]
  },
  {
   "cell_type": "markdown",
   "id": "32fea33f",
   "metadata": {},
   "source": [
    "### Joined Datasets"
   ]
  },
  {
   "cell_type": "code",
   "execution_count": 678,
   "id": "a55997a3",
   "metadata": {},
   "outputs": [
    {
     "data": {
      "text/html": [
       "<div>\n",
       "<style scoped>\n",
       "    .dataframe tbody tr th:only-of-type {\n",
       "        vertical-align: middle;\n",
       "    }\n",
       "\n",
       "    .dataframe tbody tr th {\n",
       "        vertical-align: top;\n",
       "    }\n",
       "\n",
       "    .dataframe thead tr th {\n",
       "        text-align: left;\n",
       "    }\n",
       "</style>\n",
       "<table border=\"1\" class=\"dataframe\">\n",
       "  <thead>\n",
       "    <tr>\n",
       "      <th></th>\n",
       "      <th>df_decisiontree</th>\n",
       "      <th>df_catboost</th>\n",
       "      <th>df_randomforest</th>\n",
       "      <th>df_linearreg</th>\n",
       "      <th>df_xgb</th>\n",
       "      <th>df_lasso</th>\n",
       "      <th>df_ridge</th>\n",
       "    </tr>\n",
       "    <tr>\n",
       "      <th></th>\n",
       "      <th>Metrics</th>\n",
       "      <th>Metrics</th>\n",
       "      <th>Metrics</th>\n",
       "      <th>Metrics</th>\n",
       "      <th>Metrics</th>\n",
       "      <th>Metrics</th>\n",
       "      <th>Metrics</th>\n",
       "    </tr>\n",
       "  </thead>\n",
       "  <tbody>\n",
       "    <tr>\n",
       "      <th>MAE DT</th>\n",
       "      <td>0.234997</td>\n",
       "      <td>NaN</td>\n",
       "      <td>0.234997</td>\n",
       "      <td>NaN</td>\n",
       "      <td>NaN</td>\n",
       "      <td>NaN</td>\n",
       "      <td>NaN</td>\n",
       "    </tr>\n",
       "    <tr>\n",
       "      <th>MSE DT</th>\n",
       "      <td>0.256039</td>\n",
       "      <td>NaN</td>\n",
       "      <td>0.256039</td>\n",
       "      <td>NaN</td>\n",
       "      <td>NaN</td>\n",
       "      <td>NaN</td>\n",
       "      <td>NaN</td>\n",
       "    </tr>\n",
       "    <tr>\n",
       "      <th>RMSE DT</th>\n",
       "      <td>0.506003</td>\n",
       "      <td>NaN</td>\n",
       "      <td>0.506003</td>\n",
       "      <td>NaN</td>\n",
       "      <td>NaN</td>\n",
       "      <td>NaN</td>\n",
       "      <td>NaN</td>\n",
       "    </tr>\n",
       "    <tr>\n",
       "      <th>MAE Catboost</th>\n",
       "      <td>NaN</td>\n",
       "      <td>0.204078</td>\n",
       "      <td>NaN</td>\n",
       "      <td>NaN</td>\n",
       "      <td>NaN</td>\n",
       "      <td>NaN</td>\n",
       "      <td>NaN</td>\n",
       "    </tr>\n",
       "    <tr>\n",
       "      <th>MSE Catboost</th>\n",
       "      <td>NaN</td>\n",
       "      <td>0.117276</td>\n",
       "      <td>NaN</td>\n",
       "      <td>NaN</td>\n",
       "      <td>NaN</td>\n",
       "      <td>NaN</td>\n",
       "      <td>NaN</td>\n",
       "    </tr>\n",
       "    <tr>\n",
       "      <th>RMSE Catboost</th>\n",
       "      <td>NaN</td>\n",
       "      <td>0.267274</td>\n",
       "      <td>NaN</td>\n",
       "      <td>NaN</td>\n",
       "      <td>NaN</td>\n",
       "      <td>NaN</td>\n",
       "      <td>NaN</td>\n",
       "    </tr>\n",
       "    <tr>\n",
       "      <th>MAE RF</th>\n",
       "      <td>NaN</td>\n",
       "      <td>NaN</td>\n",
       "      <td>NaN</td>\n",
       "      <td>0.074547</td>\n",
       "      <td>NaN</td>\n",
       "      <td>NaN</td>\n",
       "      <td>NaN</td>\n",
       "    </tr>\n",
       "    <tr>\n",
       "      <th>MSE RF</th>\n",
       "      <td>NaN</td>\n",
       "      <td>NaN</td>\n",
       "      <td>NaN</td>\n",
       "      <td>0.017117</td>\n",
       "      <td>NaN</td>\n",
       "      <td>NaN</td>\n",
       "      <td>NaN</td>\n",
       "    </tr>\n",
       "    <tr>\n",
       "      <th>RMSE RF</th>\n",
       "      <td>NaN</td>\n",
       "      <td>NaN</td>\n",
       "      <td>NaN</td>\n",
       "      <td>0.130831</td>\n",
       "      <td>NaN</td>\n",
       "      <td>NaN</td>\n",
       "      <td>NaN</td>\n",
       "    </tr>\n",
       "    <tr>\n",
       "      <th>MAE Linear Regression</th>\n",
       "      <td>NaN</td>\n",
       "      <td>NaN</td>\n",
       "      <td>NaN</td>\n",
       "      <td>NaN</td>\n",
       "      <td>0.345836</td>\n",
       "      <td>NaN</td>\n",
       "      <td>NaN</td>\n",
       "    </tr>\n",
       "    <tr>\n",
       "      <th>MSE Linear Regression</th>\n",
       "      <td>NaN</td>\n",
       "      <td>NaN</td>\n",
       "      <td>NaN</td>\n",
       "      <td>NaN</td>\n",
       "      <td>0.229525</td>\n",
       "      <td>NaN</td>\n",
       "      <td>NaN</td>\n",
       "    </tr>\n",
       "    <tr>\n",
       "      <th>RMSE Linear Regression</th>\n",
       "      <td>NaN</td>\n",
       "      <td>NaN</td>\n",
       "      <td>NaN</td>\n",
       "      <td>NaN</td>\n",
       "      <td>0.479088</td>\n",
       "      <td>NaN</td>\n",
       "      <td>NaN</td>\n",
       "    </tr>\n",
       "    <tr>\n",
       "      <th>MAE XGB</th>\n",
       "      <td>NaN</td>\n",
       "      <td>NaN</td>\n",
       "      <td>NaN</td>\n",
       "      <td>NaN</td>\n",
       "      <td>NaN</td>\n",
       "      <td>0.266169</td>\n",
       "      <td>NaN</td>\n",
       "    </tr>\n",
       "    <tr>\n",
       "      <th>MSE XGB</th>\n",
       "      <td>NaN</td>\n",
       "      <td>NaN</td>\n",
       "      <td>NaN</td>\n",
       "      <td>NaN</td>\n",
       "      <td>NaN</td>\n",
       "      <td>0.160760</td>\n",
       "      <td>NaN</td>\n",
       "    </tr>\n",
       "    <tr>\n",
       "      <th>RMSE  XGB</th>\n",
       "      <td>NaN</td>\n",
       "      <td>NaN</td>\n",
       "      <td>NaN</td>\n",
       "      <td>NaN</td>\n",
       "      <td>NaN</td>\n",
       "      <td>0.400949</td>\n",
       "      <td>NaN</td>\n",
       "    </tr>\n",
       "    <tr>\n",
       "      <th>MAE lasso</th>\n",
       "      <td>NaN</td>\n",
       "      <td>NaN</td>\n",
       "      <td>NaN</td>\n",
       "      <td>NaN</td>\n",
       "      <td>NaN</td>\n",
       "      <td>NaN</td>\n",
       "      <td>0.923032</td>\n",
       "    </tr>\n",
       "    <tr>\n",
       "      <th>MSE</th>\n",
       "      <td>NaN</td>\n",
       "      <td>NaN</td>\n",
       "      <td>NaN</td>\n",
       "      <td>NaN</td>\n",
       "      <td>NaN</td>\n",
       "      <td>NaN</td>\n",
       "      <td>1.665488</td>\n",
       "    </tr>\n",
       "    <tr>\n",
       "      <th>RMSE</th>\n",
       "      <td>NaN</td>\n",
       "      <td>NaN</td>\n",
       "      <td>NaN</td>\n",
       "      <td>NaN</td>\n",
       "      <td>NaN</td>\n",
       "      <td>NaN</td>\n",
       "      <td>1.290538</td>\n",
       "    </tr>\n",
       "  </tbody>\n",
       "</table>\n",
       "</div>"
      ],
      "text/plain": [
       "                       df_decisiontree df_catboost df_randomforest  \\\n",
       "                               Metrics     Metrics         Metrics   \n",
       "MAE DT                        0.234997         NaN        0.234997   \n",
       "MSE DT                        0.256039         NaN        0.256039   \n",
       "RMSE DT                       0.506003         NaN        0.506003   \n",
       "MAE Catboost                       NaN    0.204078             NaN   \n",
       "MSE Catboost                       NaN    0.117276             NaN   \n",
       "RMSE Catboost                      NaN    0.267274             NaN   \n",
       "MAE RF                             NaN         NaN             NaN   \n",
       "MSE RF                             NaN         NaN             NaN   \n",
       "RMSE RF                            NaN         NaN             NaN   \n",
       "MAE Linear Regression              NaN         NaN             NaN   \n",
       "MSE Linear Regression              NaN         NaN             NaN   \n",
       "RMSE Linear Regression             NaN         NaN             NaN   \n",
       "MAE XGB                            NaN         NaN             NaN   \n",
       "MSE XGB                            NaN         NaN             NaN   \n",
       "RMSE  XGB                          NaN         NaN             NaN   \n",
       "MAE lasso                          NaN         NaN             NaN   \n",
       "MSE                                NaN         NaN             NaN   \n",
       "RMSE                               NaN         NaN             NaN   \n",
       "\n",
       "                       df_linearreg    df_xgb  df_lasso  df_ridge  \n",
       "                            Metrics   Metrics   Metrics   Metrics  \n",
       "MAE DT                          NaN       NaN       NaN       NaN  \n",
       "MSE DT                          NaN       NaN       NaN       NaN  \n",
       "RMSE DT                         NaN       NaN       NaN       NaN  \n",
       "MAE Catboost                    NaN       NaN       NaN       NaN  \n",
       "MSE Catboost                    NaN       NaN       NaN       NaN  \n",
       "RMSE Catboost                   NaN       NaN       NaN       NaN  \n",
       "MAE RF                     0.074547       NaN       NaN       NaN  \n",
       "MSE RF                     0.017117       NaN       NaN       NaN  \n",
       "RMSE RF                    0.130831       NaN       NaN       NaN  \n",
       "MAE Linear Regression           NaN  0.345836       NaN       NaN  \n",
       "MSE Linear Regression           NaN  0.229525       NaN       NaN  \n",
       "RMSE Linear Regression          NaN  0.479088       NaN       NaN  \n",
       "MAE XGB                         NaN       NaN  0.266169       NaN  \n",
       "MSE XGB                         NaN       NaN  0.160760       NaN  \n",
       "RMSE  XGB                       NaN       NaN  0.400949       NaN  \n",
       "MAE lasso                       NaN       NaN       NaN  0.923032  \n",
       "MSE                             NaN       NaN       NaN  1.665488  \n",
       "RMSE                            NaN       NaN       NaN  1.290538  "
      ]
     },
     "execution_count": 678,
     "metadata": {},
     "output_type": "execute_result"
    }
   ],
   "source": [
    "joined = pd.concat((df_decisiontree, df_catboost, df_decisiontree, df_randomforest,\n",
    "           df_linearreg, df_xgb, df_lasso,df_ridge), axis=1, keys=[ 'df_decisiontree', 'df_catboost',\n",
    "                                                                   'df_randomforest','df_linearreg',\n",
    "                                                                  'df_xgb', 'df_lasso','df_ridge'])\n",
    "joined # this is the joined dataframe"
   ]
  },
  {
   "cell_type": "markdown",
   "id": "83d09ac2",
   "metadata": {},
   "source": [
    "### ML Models Without Duplicates and the Columns"
   ]
  },
  {
   "cell_type": "code",
   "execution_count": 679,
   "id": "8460be21",
   "metadata": {},
   "outputs": [],
   "source": [
    "df_new  = df\n",
    "df_new = df_new.drop(['sex','smoker','region'], axis=1)\n",
    "\n",
    "le_sex = LabelEncoder()\n",
    "le_smoker = LabelEncoder()\n",
    "le_region = LabelEncoder()\n",
    "\n",
    "# Label encoding\n",
    "df['sex_encoded'] = le_sex.fit_transform(df.sex)\n",
    "df['smoker_encoded'] = le_smoker.fit_transform(df.smoker)\n",
    "df['region_encoded'] = le_region.fit_transform(df.region)"
   ]
  },
  {
   "cell_type": "code",
   "execution_count": 680,
   "id": "5e29c497",
   "metadata": {},
   "outputs": [
    {
     "data": {
      "text/html": [
       "<div>\n",
       "<style scoped>\n",
       "    .dataframe tbody tr th:only-of-type {\n",
       "        vertical-align: middle;\n",
       "    }\n",
       "\n",
       "    .dataframe tbody tr th {\n",
       "        vertical-align: top;\n",
       "    }\n",
       "\n",
       "    .dataframe thead th {\n",
       "        text-align: right;\n",
       "    }\n",
       "</style>\n",
       "<table border=\"1\" class=\"dataframe\">\n",
       "  <thead>\n",
       "    <tr style=\"text-align: right;\">\n",
       "      <th></th>\n",
       "      <th>age</th>\n",
       "      <th>bmi</th>\n",
       "      <th>charges</th>\n",
       "      <th>smoker_encoded</th>\n",
       "    </tr>\n",
       "  </thead>\n",
       "  <tbody>\n",
       "    <tr>\n",
       "      <th>0</th>\n",
       "      <td>19</td>\n",
       "      <td>27.900</td>\n",
       "      <td>16884.92400</td>\n",
       "      <td>1</td>\n",
       "    </tr>\n",
       "    <tr>\n",
       "      <th>1</th>\n",
       "      <td>18</td>\n",
       "      <td>33.770</td>\n",
       "      <td>1725.55230</td>\n",
       "      <td>0</td>\n",
       "    </tr>\n",
       "    <tr>\n",
       "      <th>2</th>\n",
       "      <td>28</td>\n",
       "      <td>33.000</td>\n",
       "      <td>4449.46200</td>\n",
       "      <td>0</td>\n",
       "    </tr>\n",
       "    <tr>\n",
       "      <th>3</th>\n",
       "      <td>33</td>\n",
       "      <td>22.705</td>\n",
       "      <td>21984.47061</td>\n",
       "      <td>0</td>\n",
       "    </tr>\n",
       "    <tr>\n",
       "      <th>4</th>\n",
       "      <td>32</td>\n",
       "      <td>28.880</td>\n",
       "      <td>3866.85520</td>\n",
       "      <td>0</td>\n",
       "    </tr>\n",
       "    <tr>\n",
       "      <th>...</th>\n",
       "      <td>...</td>\n",
       "      <td>...</td>\n",
       "      <td>...</td>\n",
       "      <td>...</td>\n",
       "    </tr>\n",
       "    <tr>\n",
       "      <th>1333</th>\n",
       "      <td>50</td>\n",
       "      <td>30.970</td>\n",
       "      <td>10600.54830</td>\n",
       "      <td>0</td>\n",
       "    </tr>\n",
       "    <tr>\n",
       "      <th>1334</th>\n",
       "      <td>18</td>\n",
       "      <td>31.920</td>\n",
       "      <td>2205.98080</td>\n",
       "      <td>0</td>\n",
       "    </tr>\n",
       "    <tr>\n",
       "      <th>1335</th>\n",
       "      <td>18</td>\n",
       "      <td>36.850</td>\n",
       "      <td>1629.83350</td>\n",
       "      <td>0</td>\n",
       "    </tr>\n",
       "    <tr>\n",
       "      <th>1336</th>\n",
       "      <td>21</td>\n",
       "      <td>25.800</td>\n",
       "      <td>2007.94500</td>\n",
       "      <td>0</td>\n",
       "    </tr>\n",
       "    <tr>\n",
       "      <th>1337</th>\n",
       "      <td>61</td>\n",
       "      <td>29.070</td>\n",
       "      <td>29141.36030</td>\n",
       "      <td>1</td>\n",
       "    </tr>\n",
       "  </tbody>\n",
       "</table>\n",
       "<p>1338 rows × 4 columns</p>\n",
       "</div>"
      ],
      "text/plain": [
       "      age     bmi      charges  smoker_encoded\n",
       "0      19  27.900  16884.92400               1\n",
       "1      18  33.770   1725.55230               0\n",
       "2      28  33.000   4449.46200               0\n",
       "3      33  22.705  21984.47061               0\n",
       "4      32  28.880   3866.85520               0\n",
       "...   ...     ...          ...             ...\n",
       "1333   50  30.970  10600.54830               0\n",
       "1334   18  31.920   2205.98080               0\n",
       "1335   18  36.850   1629.83350               0\n",
       "1336   21  25.800   2007.94500               0\n",
       "1337   61  29.070  29141.36030               1\n",
       "\n",
       "[1338 rows x 4 columns]"
      ]
     },
     "execution_count": 680,
     "metadata": {},
     "output_type": "execute_result"
    }
   ],
   "source": [
    "df_new = df_new.drop(['region_encoded','sex_encoded', 'children'], axis=1)\n",
    "df_new"
   ]
  },
  {
   "cell_type": "code",
   "execution_count": 681,
   "id": "ae954f9e",
   "metadata": {
    "scrolled": false
   },
   "outputs": [
    {
     "data": {
      "text/html": [
       "<div>\n",
       "<style scoped>\n",
       "    .dataframe tbody tr th:only-of-type {\n",
       "        vertical-align: middle;\n",
       "    }\n",
       "\n",
       "    .dataframe tbody tr th {\n",
       "        vertical-align: top;\n",
       "    }\n",
       "\n",
       "    .dataframe thead th {\n",
       "        text-align: right;\n",
       "    }\n",
       "</style>\n",
       "<table border=\"1\" class=\"dataframe\">\n",
       "  <thead>\n",
       "    <tr style=\"text-align: right;\">\n",
       "      <th></th>\n",
       "      <th>age</th>\n",
       "      <th>bmi</th>\n",
       "      <th>charges</th>\n",
       "      <th>smoker_encoded</th>\n",
       "    </tr>\n",
       "  </thead>\n",
       "  <tbody>\n",
       "    <tr>\n",
       "      <th>0</th>\n",
       "      <td>19</td>\n",
       "      <td>27.900</td>\n",
       "      <td>16884.92400</td>\n",
       "      <td>1</td>\n",
       "    </tr>\n",
       "    <tr>\n",
       "      <th>1</th>\n",
       "      <td>18</td>\n",
       "      <td>33.770</td>\n",
       "      <td>1725.55230</td>\n",
       "      <td>0</td>\n",
       "    </tr>\n",
       "    <tr>\n",
       "      <th>2</th>\n",
       "      <td>28</td>\n",
       "      <td>33.000</td>\n",
       "      <td>4449.46200</td>\n",
       "      <td>0</td>\n",
       "    </tr>\n",
       "    <tr>\n",
       "      <th>3</th>\n",
       "      <td>33</td>\n",
       "      <td>22.705</td>\n",
       "      <td>21984.47061</td>\n",
       "      <td>0</td>\n",
       "    </tr>\n",
       "    <tr>\n",
       "      <th>4</th>\n",
       "      <td>32</td>\n",
       "      <td>28.880</td>\n",
       "      <td>3866.85520</td>\n",
       "      <td>0</td>\n",
       "    </tr>\n",
       "    <tr>\n",
       "      <th>...</th>\n",
       "      <td>...</td>\n",
       "      <td>...</td>\n",
       "      <td>...</td>\n",
       "      <td>...</td>\n",
       "    </tr>\n",
       "    <tr>\n",
       "      <th>1333</th>\n",
       "      <td>50</td>\n",
       "      <td>30.970</td>\n",
       "      <td>10600.54830</td>\n",
       "      <td>0</td>\n",
       "    </tr>\n",
       "    <tr>\n",
       "      <th>1334</th>\n",
       "      <td>18</td>\n",
       "      <td>31.920</td>\n",
       "      <td>2205.98080</td>\n",
       "      <td>0</td>\n",
       "    </tr>\n",
       "    <tr>\n",
       "      <th>1335</th>\n",
       "      <td>18</td>\n",
       "      <td>36.850</td>\n",
       "      <td>1629.83350</td>\n",
       "      <td>0</td>\n",
       "    </tr>\n",
       "    <tr>\n",
       "      <th>1336</th>\n",
       "      <td>21</td>\n",
       "      <td>25.800</td>\n",
       "      <td>2007.94500</td>\n",
       "      <td>0</td>\n",
       "    </tr>\n",
       "    <tr>\n",
       "      <th>1337</th>\n",
       "      <td>61</td>\n",
       "      <td>29.070</td>\n",
       "      <td>29141.36030</td>\n",
       "      <td>1</td>\n",
       "    </tr>\n",
       "  </tbody>\n",
       "</table>\n",
       "<p>1337 rows × 4 columns</p>\n",
       "</div>"
      ],
      "text/plain": [
       "      age     bmi      charges  smoker_encoded\n",
       "0      19  27.900  16884.92400               1\n",
       "1      18  33.770   1725.55230               0\n",
       "2      28  33.000   4449.46200               0\n",
       "3      33  22.705  21984.47061               0\n",
       "4      32  28.880   3866.85520               0\n",
       "...   ...     ...          ...             ...\n",
       "1333   50  30.970  10600.54830               0\n",
       "1334   18  31.920   2205.98080               0\n",
       "1335   18  36.850   1629.83350               0\n",
       "1336   21  25.800   2007.94500               0\n",
       "1337   61  29.070  29141.36030               1\n",
       "\n",
       "[1337 rows x 4 columns]"
      ]
     },
     "execution_count": 681,
     "metadata": {},
     "output_type": "execute_result"
    }
   ],
   "source": [
    "df_new. drop_duplicates()"
   ]
  },
  {
   "cell_type": "markdown",
   "id": "ddcdbf8a",
   "metadata": {},
   "source": [
    "## Top 3 Algorithms "
   ]
  },
  {
   "cell_type": "markdown",
   "id": "648a7759",
   "metadata": {},
   "source": [
    "Based on the results in the first ML ALgorithms section I will be using the top 3 and removing the duplicated data and based on feature selction will identify whether there is a positive, negative or no effect when changing those factors."
   ]
  },
  {
   "cell_type": "markdown",
   "id": "9dc2993e",
   "metadata": {},
   "source": [
    "### - Random Forest "
   ]
  },
  {
   "cell_type": "code",
   "execution_count": 682,
   "id": "c924127c",
   "metadata": {},
   "outputs": [
    {
     "data": {
      "text/html": [
       "<div>\n",
       "<style scoped>\n",
       "    .dataframe tbody tr th:only-of-type {\n",
       "        vertical-align: middle;\n",
       "    }\n",
       "\n",
       "    .dataframe tbody tr th {\n",
       "        vertical-align: top;\n",
       "    }\n",
       "\n",
       "    .dataframe thead th {\n",
       "        text-align: right;\n",
       "    }\n",
       "</style>\n",
       "<table border=\"1\" class=\"dataframe\">\n",
       "  <thead>\n",
       "    <tr style=\"text-align: right;\">\n",
       "      <th></th>\n",
       "      <th>age</th>\n",
       "      <th>bmi</th>\n",
       "      <th>charges</th>\n",
       "      <th>smoker_encoded</th>\n",
       "    </tr>\n",
       "  </thead>\n",
       "  <tbody>\n",
       "    <tr>\n",
       "      <th>0</th>\n",
       "      <td>-1.438764</td>\n",
       "      <td>-0.453320</td>\n",
       "      <td>0.298584</td>\n",
       "      <td>1</td>\n",
       "    </tr>\n",
       "    <tr>\n",
       "      <th>1</th>\n",
       "      <td>-1.509965</td>\n",
       "      <td>0.509621</td>\n",
       "      <td>-0.953689</td>\n",
       "      <td>0</td>\n",
       "    </tr>\n",
       "    <tr>\n",
       "      <th>2</th>\n",
       "      <td>-0.797954</td>\n",
       "      <td>0.383307</td>\n",
       "      <td>-0.728675</td>\n",
       "      <td>0</td>\n",
       "    </tr>\n",
       "    <tr>\n",
       "      <th>3</th>\n",
       "      <td>-0.441948</td>\n",
       "      <td>-1.305531</td>\n",
       "      <td>0.719843</td>\n",
       "      <td>0</td>\n",
       "    </tr>\n",
       "    <tr>\n",
       "      <th>4</th>\n",
       "      <td>-0.513149</td>\n",
       "      <td>-0.292556</td>\n",
       "      <td>-0.776802</td>\n",
       "      <td>0</td>\n",
       "    </tr>\n",
       "  </tbody>\n",
       "</table>\n",
       "</div>"
      ],
      "text/plain": [
       "        age       bmi   charges  smoker_encoded\n",
       "0 -1.438764 -0.453320  0.298584               1\n",
       "1 -1.509965  0.509621 -0.953689               0\n",
       "2 -0.797954  0.383307 -0.728675               0\n",
       "3 -0.441948 -1.305531  0.719843               0\n",
       "4 -0.513149 -0.292556 -0.776802               0"
      ]
     },
     "execution_count": 682,
     "metadata": {},
     "output_type": "execute_result"
    }
   ],
   "source": [
    "from sklearn.preprocessing import StandardScaler\n",
    "df_new2 = df_new.copy()\n",
    " \n",
    "tempBmi = data_pre.bmi\n",
    "tempBmi = tempBmi.values.reshape(-1,1)\n",
    "df_new2['bmi'] = StandardScaler().fit_transform(tempBmi)\n",
    " \n",
    "tempAge = data_pre.age\n",
    "tempAge = tempAge.values.reshape(-1,1)\n",
    "df_new2['age'] = StandardScaler().fit_transform(tempAge)\n",
    " \n",
    "tempCharges = data_pre.charges\n",
    "tempCharges = tempCharges.values.reshape(-1,1)\n",
    "df_new2['charges'] = StandardScaler().fit_transform(tempCharges)\n",
    " \n",
    "df_new2.head()"
   ]
  },
  {
   "cell_type": "code",
   "execution_count": 687,
   "id": "3921260c",
   "metadata": {},
   "outputs": [],
   "source": [
    "X = df_new2.drop('charges', axis = 1)\n",
    "y = df_new2['charges']\n",
    "\n",
    "X_train, X_test, y_train, y_test= train_test_split(X, y, \n",
    "                                                   test_size=0.2, random_state = 100)"
   ]
  },
  {
   "cell_type": "code",
   "execution_count": 688,
   "id": "af11b085",
   "metadata": {},
   "outputs": [
    {
     "data": {
      "text/plain": [
       "RandomForestRegressor(random_state=10)"
      ]
     },
     "execution_count": 688,
     "metadata": {},
     "output_type": "execute_result"
    }
   ],
   "source": [
    "from sklearn.ensemble import RandomForestRegressor\n",
    "  \n",
    "random_forest = RandomForestRegressor(n_estimators = 100, random_state = 10)\n",
    "random_forest.fit(X, y)  "
   ]
  },
  {
   "cell_type": "code",
   "execution_count": 689,
   "id": "6077d2ef",
   "metadata": {},
   "outputs": [
    {
     "data": {
      "text/html": [
       "<div>\n",
       "<style scoped>\n",
       "    .dataframe tbody tr th:only-of-type {\n",
       "        vertical-align: middle;\n",
       "    }\n",
       "\n",
       "    .dataframe tbody tr th {\n",
       "        vertical-align: top;\n",
       "    }\n",
       "\n",
       "    .dataframe thead th {\n",
       "        text-align: right;\n",
       "    }\n",
       "</style>\n",
       "<table border=\"1\" class=\"dataframe\">\n",
       "  <thead>\n",
       "    <tr style=\"text-align: right;\">\n",
       "      <th></th>\n",
       "      <th>Metrics</th>\n",
       "    </tr>\n",
       "  </thead>\n",
       "  <tbody>\n",
       "    <tr>\n",
       "      <th>MAE Random Forest</th>\n",
       "      <td>0.088473</td>\n",
       "    </tr>\n",
       "    <tr>\n",
       "      <th>MSE Random Forest</th>\n",
       "      <td>0.027698</td>\n",
       "    </tr>\n",
       "    <tr>\n",
       "      <th>RMSE Random Forest</th>\n",
       "      <td>0.166427</td>\n",
       "    </tr>\n",
       "  </tbody>\n",
       "</table>\n",
       "</div>"
      ],
      "text/plain": [
       "                     Metrics\n",
       "MAE Random Forest   0.088473\n",
       "MSE Random Forest   0.027698\n",
       "RMSE Random Forest  0.166427"
      ]
     },
     "execution_count": 689,
     "metadata": {},
     "output_type": "execute_result"
    }
   ],
   "source": [
    "y_pred = random_forest.predict(X_test)\n",
    "y_pred = pd.DataFrame(y_pred)\n",
    "MAE_random_forest= metrics.mean_absolute_error(y_test, y_pred)\n",
    "MSE_random_forest = metrics.mean_squared_error(y_test, y_pred)\n",
    "RMSE_random_forest =np.sqrt(MSE_random_forest)\n",
    "\n",
    "pd.DataFrame([MAE_random_forest, MSE_random_forest, RMSE_random_forest], \n",
    "             index=['MAE Random Forest', 'MSE Random Forest', 'RMSE Random Forest'], columns=['Metrics'])"
   ]
  },
  {
   "cell_type": "code",
   "execution_count": 690,
   "id": "d5469ef9",
   "metadata": {},
   "outputs": [
    {
     "data": {
      "text/plain": [
       "0.9741152893564211"
      ]
     },
     "execution_count": 690,
     "metadata": {},
     "output_type": "execute_result"
    }
   ],
   "source": [
    "r2_score(y_test, y_pred)"
   ]
  },
  {
   "cell_type": "code",
   "execution_count": 691,
   "id": "118788c4",
   "metadata": {
    "scrolled": true
   },
   "outputs": [
    {
     "name": "stdout",
     "output_type": "stream",
     "text": [
      "Accuracy = 0.9741152893564211\n"
     ]
    }
   ],
   "source": [
    "accuracy = random_forest.score(X_test, y_test)\n",
    "print('Accuracy = '+ str(accuracy))"
   ]
  },
  {
   "cell_type": "code",
   "execution_count": null,
   "id": "2862dfa0",
   "metadata": {},
   "outputs": [],
   "source": []
  },
  {
   "cell_type": "markdown",
   "id": "5b667093",
   "metadata": {},
   "source": [
    "### - CatBoost"
   ]
  },
  {
   "cell_type": "code",
   "execution_count": 597,
   "id": "e3b59166",
   "metadata": {},
   "outputs": [],
   "source": [
    "X = df_new2.drop('charges', axis = 1)\n",
    "y = df_new2['charges']\n",
    "\n",
    "X_train, X_test, y_train, y_test= train_test_split(X, y, \n",
    "                                                   test_size=0.2, random_state = 100)"
   ]
  },
  {
   "cell_type": "code",
   "execution_count": 598,
   "id": "534424c1",
   "metadata": {},
   "outputs": [],
   "source": [
    "catboost_model = CatBoostRegressor(iterations=200, verbose=False)"
   ]
  },
  {
   "cell_type": "code",
   "execution_count": 621,
   "id": "8504b6b2",
   "metadata": {},
   "outputs": [
    {
     "data": {
      "text/html": [
       "<div>\n",
       "<style scoped>\n",
       "    .dataframe tbody tr th:only-of-type {\n",
       "        vertical-align: middle;\n",
       "    }\n",
       "\n",
       "    .dataframe tbody tr th {\n",
       "        vertical-align: top;\n",
       "    }\n",
       "\n",
       "    .dataframe thead th {\n",
       "        text-align: right;\n",
       "    }\n",
       "</style>\n",
       "<table border=\"1\" class=\"dataframe\">\n",
       "  <thead>\n",
       "    <tr style=\"text-align: right;\">\n",
       "      <th></th>\n",
       "      <th>Metrics</th>\n",
       "    </tr>\n",
       "  </thead>\n",
       "  <tbody>\n",
       "    <tr>\n",
       "      <th>MAE Catboost New</th>\n",
       "      <td>0.206783</td>\n",
       "    </tr>\n",
       "    <tr>\n",
       "      <th>MSE Catboost New</th>\n",
       "      <td>0.142204</td>\n",
       "    </tr>\n",
       "    <tr>\n",
       "      <th>RMSECatboost New</th>\n",
       "      <td>0.377100</td>\n",
       "    </tr>\n",
       "  </tbody>\n",
       "</table>\n",
       "</div>"
      ],
      "text/plain": [
       "                   Metrics\n",
       "MAE Catboost New  0.206783\n",
       "MSE Catboost New  0.142204\n",
       "RMSECatboost New  0.377100"
      ]
     },
     "execution_count": 621,
     "metadata": {},
     "output_type": "execute_result"
    }
   ],
   "source": [
    "catboost_model.fit(X_train, y_train)\n",
    "\n",
    "y_pred = catboost_model.predict(X_test)\n",
    "y_pred = pd.DataFrame(y_pred)\n",
    "MAE_catboost_model= metrics.mean_absolute_error(y_test, y_pred)\n",
    "MSE_catboost_model = metrics.mean_squared_error(y_test, y_pred)\n",
    "RMSE_catboost_model =np.sqrt(MSE_catboost_model)\n",
    "\n",
    "pd.DataFrame([MAE_catboost_model, MSE_catboost_model, RMSE_catboost_model], \n",
    "             index=['MAE Catboost New', 'MSE Catboost New', 'RMSECatboost New'], columns=['Metrics'])"
   ]
  },
  {
   "cell_type": "code",
   "execution_count": 320,
   "id": "7514dede",
   "metadata": {},
   "outputs": [
    {
     "data": {
      "text/plain": [
       "0.8821109375889608"
      ]
     },
     "execution_count": 320,
     "metadata": {},
     "output_type": "execute_result"
    }
   ],
   "source": [
    "r2_score(y_test, y_pred)"
   ]
  },
  {
   "cell_type": "code",
   "execution_count": 321,
   "id": "7fb2c626",
   "metadata": {},
   "outputs": [
    {
     "name": "stdout",
     "output_type": "stream",
     "text": [
      "Accuracy = 0.8821109375889608\n"
     ]
    }
   ],
   "source": [
    "accuracy = catboost_model.score(X_test, y_test)\n",
    "print('Accuracy = '+ str(accuracy))"
   ]
  },
  {
   "cell_type": "markdown",
   "id": "50506ce8",
   "metadata": {},
   "source": [
    "### - XGB"
   ]
  },
  {
   "cell_type": "code",
   "execution_count": 602,
   "id": "3cfbe502",
   "metadata": {},
   "outputs": [],
   "source": [
    "from sklearn.model_selection import train_test_split\n",
    "import xgboost as xgb"
   ]
  },
  {
   "cell_type": "code",
   "execution_count": 603,
   "id": "67290109",
   "metadata": {},
   "outputs": [],
   "source": [
    "X = df_new2.drop('charges', axis = 1)\n",
    "y = df_new2['charges']\n",
    "\n",
    "X_train, X_test, y_train, y_test= train_test_split(X, y, \n",
    "                                                   test_size=0.2, random_state=123)"
   ]
  },
  {
   "cell_type": "code",
   "execution_count": 604,
   "id": "9e2900f2",
   "metadata": {},
   "outputs": [
    {
     "data": {
      "text/plain": [
       "XGBRegressor(base_score=0.5, booster='gbtree', callbacks=None,\n",
       "             colsample_bylevel=1, colsample_bynode=1, colsample_bytree=1,\n",
       "             early_stopping_rounds=None, enable_categorical=False,\n",
       "             eval_metric=None, gamma=0, gpu_id=-1, grow_policy='depthwise',\n",
       "             importance_type=None, interaction_constraints='',\n",
       "             learning_rate=0.12, max_bin=256, max_cat_to_onehot=4,\n",
       "             max_delta_step=0, max_depth=5, max_leaves=0, min_child_weight=1,\n",
       "             missing=nan, monotone_constraints='()', n_estimators=1000,\n",
       "             n_jobs=0, num_parallel_tree=1, predictor='auto', random_state=0,\n",
       "             reg_alpha=0, reg_lambda=1, ...)"
      ]
     },
     "execution_count": 604,
     "metadata": {},
     "output_type": "execute_result"
    }
   ],
   "source": [
    "xgb = xgb.XGBRegressor(objective='reg:squarederror',\n",
    "    n_estimators=1000,\n",
    "    learning_rate=0.12,\n",
    "    subsample=0.5,\n",
    "    colsample_bytree=1, \n",
    "    max_depth=5,\n",
    ")\n",
    "xgb.fit(X_train, y_train)"
   ]
  },
  {
   "cell_type": "code",
   "execution_count": 605,
   "id": "ea109d26",
   "metadata": {},
   "outputs": [],
   "source": [
    "xgb.fit(X_train,y_train)\n",
    "predictions = xgb.predict(X_test)"
   ]
  },
  {
   "cell_type": "code",
   "execution_count": 608,
   "id": "ef9b8b8d",
   "metadata": {},
   "outputs": [
    {
     "data": {
      "text/html": [
       "<div>\n",
       "<style scoped>\n",
       "    .dataframe tbody tr th:only-of-type {\n",
       "        vertical-align: middle;\n",
       "    }\n",
       "\n",
       "    .dataframe tbody tr th {\n",
       "        vertical-align: top;\n",
       "    }\n",
       "\n",
       "    .dataframe thead th {\n",
       "        text-align: right;\n",
       "    }\n",
       "</style>\n",
       "<table border=\"1\" class=\"dataframe\">\n",
       "  <thead>\n",
       "    <tr style=\"text-align: right;\">\n",
       "      <th></th>\n",
       "      <th>Metrics</th>\n",
       "    </tr>\n",
       "  </thead>\n",
       "  <tbody>\n",
       "    <tr>\n",
       "      <th>MAE XGB</th>\n",
       "      <td>0.278482</td>\n",
       "    </tr>\n",
       "    <tr>\n",
       "      <th>MSE XGB</th>\n",
       "      <td>0.184807</td>\n",
       "    </tr>\n",
       "    <tr>\n",
       "      <th>RMSE  XGB</th>\n",
       "      <td>0.429892</td>\n",
       "    </tr>\n",
       "  </tbody>\n",
       "</table>\n",
       "</div>"
      ],
      "text/plain": [
       "            Metrics\n",
       "MAE XGB    0.278482\n",
       "MSE XGB    0.184807\n",
       "RMSE  XGB  0.429892"
      ]
     },
     "execution_count": 608,
     "metadata": {},
     "output_type": "execute_result"
    }
   ],
   "source": [
    "y_pred = xgb.predict(X_test)\n",
    "y_pred = pd.DataFrame(y_pred)\n",
    "MAE_xgb = metrics.mean_absolute_error(y_test, y_pred)\n",
    "MSE_xgb= metrics.mean_squared_error(y_test, y_pred)\n",
    "RMSE_xgb =np.sqrt(MSE_xgb)\n",
    "\n",
    "df_xgb = pd.DataFrame([MAE_xgb, MSE_xgb, RMSE_xgb], \n",
    "             index=['MAE XGB', 'MSE XGB', 'RMSE  XGB'], columns=['Metrics'])\n",
    "df_xgb"
   ]
  },
  {
   "cell_type": "code",
   "execution_count": 609,
   "id": "3afe6226",
   "metadata": {},
   "outputs": [
    {
     "data": {
      "text/plain": [
       "0.8228712582723372"
      ]
     },
     "execution_count": 609,
     "metadata": {},
     "output_type": "execute_result"
    }
   ],
   "source": [
    "r2_score(y_test, y_pred)"
   ]
  },
  {
   "cell_type": "code",
   "execution_count": 610,
   "id": "b2d50c77",
   "metadata": {},
   "outputs": [
    {
     "name": "stdout",
     "output_type": "stream",
     "text": [
      "Accuracy = 0.8228712582723372\n"
     ]
    }
   ],
   "source": [
    "accuracy = xgb.score(X_test, y_test)\n",
    "print('Accuracy = '+ str(accuracy))"
   ]
  },
  {
   "cell_type": "code",
   "execution_count": null,
   "id": "a52a5505",
   "metadata": {},
   "outputs": [],
   "source": []
  }
 ],
 "metadata": {
  "kernelspec": {
   "display_name": "Python 3",
   "language": "python",
   "name": "python3"
  },
  "language_info": {
   "codemirror_mode": {
    "name": "ipython",
    "version": 3
   },
   "file_extension": ".py",
   "mimetype": "text/x-python",
   "name": "python",
   "nbconvert_exporter": "python",
   "pygments_lexer": "ipython3",
   "version": "3.8.8"
  }
 },
 "nbformat": 4,
 "nbformat_minor": 5
}
